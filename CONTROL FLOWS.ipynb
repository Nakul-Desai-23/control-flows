{
 "cells": [
  {
   "cell_type": "code",
   "execution_count": 1,
   "id": "14ae957e",
   "metadata": {},
   "outputs": [
    {
     "ename": "SyntaxError",
     "evalue": "invalid syntax (301999026.py, line 1)",
     "output_type": "error",
     "traceback": [
      "\u001b[1;36m  Cell \u001b[1;32mIn[1], line 1\u001b[1;36m\u001b[0m\n\u001b[1;33m    if\u001b[0m\n\u001b[1;37m      ^\u001b[0m\n\u001b[1;31mSyntaxError\u001b[0m\u001b[1;31m:\u001b[0m invalid syntax\n"
     ]
    }
   ],
   "source": [
    "if\n",
    "if else\n",
    "if elif else"
   ]
  },
  {
   "cell_type": "code",
   "execution_count": null,
   "id": "24b0d119",
   "metadata": {},
   "outputs": [],
   "source": [
    "age = 20"
   ]
  },
  {
   "cell_type": "code",
   "execution_count": null,
   "id": "044e416f",
   "metadata": {},
   "outputs": [],
   "source": [
    "if age >= 18:\n",
    "    print(\"You can drive\")"
   ]
  },
  {
   "cell_type": "code",
   "execution_count": null,
   "id": "a7d9b680",
   "metadata": {},
   "outputs": [],
   "source": [
    "x = 23\n",
    "if x >= 23:\n",
    "    print(\"You are inside the print block\")"
   ]
  },
  {
   "cell_type": "code",
   "execution_count": null,
   "id": "71d4b72e",
   "metadata": {},
   "outputs": [],
   "source": [
    "age = 16"
   ]
  },
  {
   "cell_type": "code",
   "execution_count": null,
   "id": "5943df0b",
   "metadata": {},
   "outputs": [],
   "source": [
    "if age >= 18:\n",
    "    print(\"You can drive\")\n",
    "else:\n",
    "    print(\"You can't drive\")"
   ]
  },
  {
   "cell_type": "code",
   "execution_count": null,
   "id": "035bd0d0",
   "metadata": {},
   "outputs": [],
   "source": [
    "score =60"
   ]
  },
  {
   "cell_type": "code",
   "execution_count": null,
   "id": "87bbba36",
   "metadata": {},
   "outputs": [],
   "source": [
    "if score >=90:\n",
    "    print(\"Excellent,you're grade is A+\")\n",
    "elif score>=80:\n",
    "    print(\"Very good,you're grade is A\")\n",
    "elif score>=70:\n",
    "    print(\"Good,you're grade is B+\")\n",
    "else:\n",
    "    print(\"Average performers\")"
   ]
  },
  {
   "cell_type": "code",
   "execution_count": null,
   "id": "36135fc0",
   "metadata": {},
   "outputs": [],
   "source": [
    "T = int(input(\"Enter which time of the day it is!!\"))\n",
    "if T<0:\n",
    "    print(\"Invalid\")\n",
    "elif 0<=T<=5:\n",
    "    print(\"NIGHT\")\n",
    "elif 6<=T<=11:\n",
    "    print(\"MORNING\")\n",
    "elif 12<=T<=17:\n",
    "    print(\"AFTERNOON\")\n",
    "elif 18<=T<=23:\n",
    "    print(\"EVENING\")\n",
    "else:\n",
    "    print(\"INVALID\")"
   ]
  },
  {
   "cell_type": "code",
   "execution_count": null,
   "id": "9ea5fc65",
   "metadata": {},
   "outputs": [],
   "source": [
    "# Find the largest number among the three\n",
    "\n",
    "num1=10\n",
    "num2=20\n",
    "num3=30\n",
    "\n",
    "\n",
    "\n",
    "if num1>num2 and num1>num:\n",
    "    largest=num1\n",
    "    print(\"largest number is \",largest)\n",
    "elif num2>num1 and num2>num3:\n",
    "    largest = num2\n",
    "    print(\"largest number is \",largest)\n",
    "else:\n",
    "    largest = num3\n",
    "    print(\"largest number is \",largest)\n",
    "    "
   ]
  },
  {
   "cell_type": "code",
   "execution_count": null,
   "id": "18644720",
   "metadata": {},
   "outputs": [],
   "source": [
    "# +,-,/,*\n",
    "a=int(input(\"Enter first number\"))\n",
    "b=int(input(\"Enter second number\"))\n",
    "print('''20'Enter + for addition \\n - for substraction \\n / for division \\n * for multiplication''')\n",
    "operation=input(\"Enter the operation to be performed\")\n",
    "if operation ==\"+\":\n",
    "    print(\"sum : \",a+b)\n",
    "elif operation ==\"-\":\n",
    "    print(\"Difference : \",a-b)\n",
    "elif operation ==\"/\":\n",
    "    print(\"Division :\",a/b)\n",
    "elif operation == \"*\":\n",
    "    print(\"Product : \",a*b)\n",
    "else:\n",
    "    pass"
   ]
  },
  {
   "cell_type": "code",
   "execution_count": null,
   "id": "890201a9",
   "metadata": {},
   "outputs": [],
   "source": [
    "num = int(input())\n",
    "\n",
    "if num >= 0:\n",
    "    if num==0:\n",
    "        print(\"number is 0\")\n",
    "    else:\n",
    "        print(\"Number is positive\")\n",
    "else:\n",
    "    print(\"The number is negative\")"
   ]
  },
  {
   "cell_type": "code",
   "execution_count": null,
   "id": "4a790a93",
   "metadata": {},
   "outputs": [],
   "source": [
    "range(5)"
   ]
  },
  {
   "cell_type": "code",
   "execution_count": null,
   "id": "0928f33f",
   "metadata": {},
   "outputs": [],
   "source": [
    "range(start,stop,step)"
   ]
  },
  {
   "cell_type": "code",
   "execution_count": null,
   "id": "787e7625",
   "metadata": {},
   "outputs": [],
   "source": [
    "list(range(10))"
   ]
  },
  {
   "cell_type": "code",
   "execution_count": null,
   "id": "bea0085f",
   "metadata": {},
   "outputs": [],
   "source": [
    "list(range(2,10))"
   ]
  },
  {
   "cell_type": "code",
   "execution_count": null,
   "id": "c6378e9c",
   "metadata": {},
   "outputs": [],
   "source": [
    "list(range(45,100,3))"
   ]
  },
  {
   "cell_type": "markdown",
   "id": "c996fa93",
   "metadata": {},
   "source": [
    "#### LOOPS"
   ]
  },
  {
   "cell_type": "markdown",
   "id": "70e7da55",
   "metadata": {},
   "source": [
    "#### FOR LOOP"
   ]
  },
  {
   "cell_type": "code",
   "execution_count": null,
   "id": "d5b75e9a",
   "metadata": {},
   "outputs": [],
   "source": [
    "for i in range(5):\n",
    "    print(i)"
   ]
  },
  {
   "cell_type": "code",
   "execution_count": null,
   "id": "b1f24347",
   "metadata": {},
   "outputs": [],
   "source": [
    "for i in range(7):\n",
    "    print(i)"
   ]
  },
  {
   "cell_type": "code",
   "execution_count": null,
   "id": "33b3e57a",
   "metadata": {},
   "outputs": [],
   "source": [
    "for i in [\"a\",'b','c']:\n",
    "    print(i)"
   ]
  },
  {
   "cell_type": "code",
   "execution_count": null,
   "id": "7cc95267",
   "metadata": {},
   "outputs": [],
   "source": [
    "for i in \"PWskills\":\n",
    "    print(i)"
   ]
  },
  {
   "cell_type": "code",
   "execution_count": null,
   "id": "7ea40839",
   "metadata": {},
   "outputs": [],
   "source": [
    "for i in 23:    #integer is non-iterable\n",
    "    print(i)"
   ]
  },
  {
   "cell_type": "code",
   "execution_count": null,
   "id": "9a5405a7",
   "metadata": {},
   "outputs": [],
   "source": [
    "x = {\"name\":'Nakul',\"city\":\"Bengaluru\"}\n",
    "for i in x.values():\n",
    "    print(i)"
   ]
  },
  {
   "cell_type": "code",
   "execution_count": null,
   "id": "d29192d0",
   "metadata": {},
   "outputs": [],
   "source": [
    "for i in x.keys():\n",
    "    print(i)"
   ]
  },
  {
   "cell_type": "code",
   "execution_count": null,
   "id": "45c649ad",
   "metadata": {},
   "outputs": [],
   "source": [
    "range(4)"
   ]
  },
  {
   "cell_type": "code",
   "execution_count": null,
   "id": "d1355d2b",
   "metadata": {},
   "outputs": [],
   "source": [
    "list(range(0,4))"
   ]
  },
  {
   "cell_type": "code",
   "execution_count": null,
   "id": "70d9364e",
   "metadata": {},
   "outputs": [],
   "source": [
    "for i in range(2,9,3):\n",
    "    print(i)"
   ]
  },
  {
   "cell_type": "code",
   "execution_count": null,
   "id": "8f389055",
   "metadata": {},
   "outputs": [],
   "source": [
    "country = ['India','United Kingdom','Germany']\n",
    "for ct in country:\n",
    "    print(ct)"
   ]
  },
  {
   "cell_type": "code",
   "execution_count": null,
   "id": "cb21d4e8",
   "metadata": {},
   "outputs": [],
   "source": [
    "country = ['India','United Kingdom','Germany']\n",
    "for ct in country:\n",
    "    print(ct)"
   ]
  },
  {
   "cell_type": "code",
   "execution_count": null,
   "id": "d528469c",
   "metadata": {},
   "outputs": [],
   "source": [
    "country = ['India','United Kingdom','Germany']\n",
    "for index in range(len(country)):\n",
    "    print(country[index])"
   ]
  },
  {
   "cell_type": "code",
   "execution_count": null,
   "id": "323c18e2",
   "metadata": {},
   "outputs": [],
   "source": [
    "dict1 ={\"x1\":1,\"x2\":2,\"x3\":3}"
   ]
  },
  {
   "cell_type": "code",
   "execution_count": null,
   "id": "f9f35cec",
   "metadata": {},
   "outputs": [],
   "source": [
    "dict1.keys()"
   ]
  },
  {
   "cell_type": "code",
   "execution_count": null,
   "id": "b54aee0c",
   "metadata": {},
   "outputs": [],
   "source": [
    "dict1.values()"
   ]
  },
  {
   "cell_type": "code",
   "execution_count": null,
   "id": "20a81516",
   "metadata": {},
   "outputs": [],
   "source": [
    "for key in dict1:\n",
    "    print(key,dict1[key])"
   ]
  },
  {
   "cell_type": "code",
   "execution_count": null,
   "id": "320c7e10",
   "metadata": {},
   "outputs": [],
   "source": [
    "for i in {1,2,3}:\n",
    "    print(i)"
   ]
  },
  {
   "cell_type": "code",
   "execution_count": null,
   "id": "aaa4180e",
   "metadata": {},
   "outputs": [],
   "source": [
    "x = \"PWskills\"\n",
    "for i in x :\n",
    "    print(i)"
   ]
  },
  {
   "cell_type": "code",
   "execution_count": null,
   "id": "5bb2b48f",
   "metadata": {},
   "outputs": [],
   "source": [
    "print(list(range(10)))"
   ]
  },
  {
   "cell_type": "code",
   "execution_count": null,
   "id": "41ba4dd7",
   "metadata": {},
   "outputs": [],
   "source": [
    "print(\"hi\",end =' ')\n",
    "print(\"pw\",end = ' ')\n",
    "print(\"skills\",end = ' ')\n",
    "print(\"ineuron\" ,end = ' ')"
   ]
  },
  {
   "cell_type": "code",
   "execution_count": null,
   "id": "e6d7f6c2",
   "metadata": {},
   "outputs": [],
   "source": [
    "print(\"hi\",end =' $ ')\n",
    "print(\"pw\",end = ' $ ')\n",
    "print(\"skills\",end = ' $ ')\n",
    "print(\"ineuron\" ,end = ' $ ')"
   ]
  },
  {
   "cell_type": "code",
   "execution_count": null,
   "id": "61341beb",
   "metadata": {},
   "outputs": [],
   "source": [
    "for i in range(10):\n",
    "    print(i , end=' #')"
   ]
  },
  {
   "cell_type": "code",
   "execution_count": null,
   "id": "8ad5ae6d",
   "metadata": {},
   "outputs": [],
   "source": [
    "for i in range(5):\n",
    "    print(i)\n",
    "else:\n",
    "    print(\"done\")"
   ]
  },
  {
   "cell_type": "code",
   "execution_count": null,
   "id": "81d757f2",
   "metadata": {},
   "outputs": [],
   "source": [
    "for i in range(5):\n",
    "    for j in range(i+1):\n",
    "        print(\"*\",end=' ')\n",
    "    print()  "
   ]
  },
  {
   "cell_type": "code",
   "execution_count": null,
   "id": "0a70db84",
   "metadata": {},
   "outputs": [],
   "source": [
    "for i in range(5,0,-1):\n",
    "    for j in range(i,0,-1):\n",
    "        print(\"*\",end=' ')\n",
    "    print()"
   ]
  },
  {
   "cell_type": "code",
   "execution_count": null,
   "id": "5203932a",
   "metadata": {},
   "outputs": [],
   "source": [
    "for i in range(1,6):\n",
    "    for j in range(1,6):\n",
    "        print(i*j,end =\" \")\n",
    "    print()\n",
    "    "
   ]
  },
  {
   "cell_type": "markdown",
   "id": "1ca27044",
   "metadata": {},
   "source": [
    "#### WHILE LOOP"
   ]
  },
  {
   "cell_type": "code",
   "execution_count": null,
   "id": "5c073011",
   "metadata": {},
   "outputs": [],
   "source": [
    "count=1 \n",
    "while count<=5:\n",
    "    print(count)\n",
    "    count+=1"
   ]
  },
  {
   "cell_type": "code",
   "execution_count": null,
   "id": "3031ca54",
   "metadata": {},
   "outputs": [],
   "source": [
    "text = \" \"\n",
    "\n",
    "while text!= \"quit\":\n",
    "    text=input(\"Enter a word \")\n",
    "    print(\"You entered\",text)"
   ]
  },
  {
   "cell_type": "code",
   "execution_count": null,
   "id": "286a1f90",
   "metadata": {},
   "outputs": [],
   "source": [
    "If the number of iterations are known, we use for loop\n",
    "If the number of iterations are not known , we use while loop"
   ]
  },
  {
   "cell_type": "code",
   "execution_count": null,
   "id": "3db956f2",
   "metadata": {},
   "outputs": [],
   "source": []
  },
  {
   "cell_type": "code",
   "execution_count": null,
   "id": "e4cb6756",
   "metadata": {},
   "outputs": [],
   "source": []
  },
  {
   "cell_type": "code",
   "execution_count": null,
   "id": "1cc1c5dc",
   "metadata": {},
   "outputs": [],
   "source": []
  },
  {
   "cell_type": "code",
   "execution_count": null,
   "id": "30e3d9ba",
   "metadata": {},
   "outputs": [],
   "source": []
  },
  {
   "cell_type": "code",
   "execution_count": null,
   "id": "61cbc2b7",
   "metadata": {},
   "outputs": [],
   "source": []
  }
 ],
 "metadata": {
  "kernelspec": {
   "display_name": "Python 3 (ipykernel)",
   "language": "python",
   "name": "python3"
  },
  "language_info": {
   "codemirror_mode": {
    "name": "ipython",
    "version": 3
   },
   "file_extension": ".py",
   "mimetype": "text/x-python",
   "name": "python",
   "nbconvert_exporter": "python",
   "pygments_lexer": "ipython3",
   "version": "3.11.3"
  }
 },
 "nbformat": 4,
 "nbformat_minor": 5
}
